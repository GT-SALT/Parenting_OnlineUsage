{
 "cells": [
  {
   "cell_type": "code",
   "execution_count": 1,
   "metadata": {},
   "outputs": [],
   "source": [
    "import pandas as pd\n",
    "import matplotlib.pyplot as plt\n",
    "import pickle"
   ]
  },
  {
   "cell_type": "code",
   "execution_count": 2,
   "metadata": {},
   "outputs": [],
   "source": [
    "data = pd.read_hdf('../data/labeled_only-reddit_796_of_1300.h5', 'all_results')"
   ]
  },
  {
   "cell_type": "code",
   "execution_count": 3,
   "metadata": {},
   "outputs": [],
   "source": [
    "data['length'] = data['topic_id'].apply(lambda arr : len(arr))"
   ]
  },
  {
   "cell_type": "markdown",
   "metadata": {},
   "source": [
    "## # of Topics per Post"
   ]
  },
  {
   "cell_type": "code",
   "execution_count": 4,
   "metadata": {},
   "outputs": [
    {
     "data": {
      "text/plain": [
       "array([[<matplotlib.axes._subplots.AxesSubplot object at 0x7f633d8c6278>]],\n",
       "      dtype=object)"
      ]
     },
     "execution_count": 4,
     "metadata": {},
     "output_type": "execute_result"
    },
    {
     "data": {
      "image/png": "[encoded data removed]",
      "text/plain": [
       "<Figure size 432x288 with 1 Axes>"
      ]
     },
     "metadata": {
      "needs_background": "light"
     },
     "output_type": "display_data"
    }
   ],
   "source": [
    "data.hist(column='length', bins=[1,2,3,4,5,6])"
   ]
  },
  {
   "cell_type": "markdown",
   "metadata": {},
   "source": [
    "## Frequency per Topic"
   ]
  },
  {
   "cell_type": "code",
   "execution_count": 5,
   "metadata": {},
   "outputs": [],
   "source": [
    "all_topics = []\n",
    "for arr in data['topic_id'].values:\n",
    "    all_topics += arr"
   ]
  },
  {
   "cell_type": "code",
   "execution_count": 6,
   "metadata": {},
   "outputs": [
    {
     "data": {
      "image/png": "[encoded data removed]",
      "text/plain": [
       "<Figure size 432x288 with 1 Axes>"
      ]
     },
     "metadata": {
      "needs_background": "light"
     },
     "output_type": "display_data"
    }
   ],
   "source": [
    "frequency, bins, _ = plt.hist(all_topics, alpha=0.5, bins=list(range(30)))\n",
    "_ = plt.gca().set(title='Frequency per Topic', ylabel='Frequency', xlabel='Topic')"
   ]
  },
  {
   "cell_type": "code",
   "execution_count": 7,
   "metadata": {},
   "outputs": [],
   "source": [
    "with open(\"../data/20200405-word_to_id.pickle\", \"rb\") as input_file:\n",
    "    word_to_id = pickle.load(input_file)\n",
    "id_to_word = dict(zip(word_to_id.values(), word_to_id.keys()))"
   ]
  },
  {
   "cell_type": "code",
   "execution_count": 8,
   "metadata": {},
   "outputs": [
    {
     "name": "stdout",
     "output_type": "stream",
     "text": [
      "potty training                :\t44\n",
      "other                         :\t29\n",
      "walk training                 :\t1\n",
      "economy                       :\t15\n",
      "child milestones              :\t5\n",
      "childcare                     :\t8\n",
      "school                        :\t20\n",
      "child product                 :\t140\n",
      "mom health                    :\t21\n",
      "discipline                    :\t5\n",
      "baby food                     :\t38\n",
      "child behavior problem        :\t35\n",
      "sinle parents                 :\t28\n",
      "child health                  :\t63\n",
      "sleeping                      :\t83\n",
      "pregnancy                     :\t61\n",
      "parent-child interaction      :\t39\n",
      "language training             :\t2\n",
      "parent education              :\t21\n",
      "emotion coaching              :\t4\n",
      "dad parenting                 :\t25\n",
      "breastfeeding                 :\t158\n",
      "play                          :\t10\n",
      "sell exchange                 :\t39\n",
      "parent support                :\t45\n",
      "non-biological parents        :\t16\n",
      "multiple children             :\t32\n",
      "child appearances             :\t3\n",
      "working parents               :\t27\n"
     ]
    }
   ],
   "source": [
    "for i, count in enumerate(frequency):\n",
    "    print(f\"{id_to_word[i]:<30}:\\t{int(count)}\")"
   ]
  },
  {
   "cell_type": "code",
   "execution_count": 9,
   "metadata": {},
   "outputs": [
    {
     "name": "stdout",
     "output_type": "stream",
     "text": [
      "breastfeeding                 :\t158\n",
      "child product                 :\t140\n",
      "sleeping                      :\t83\n",
      "child health                  :\t63\n",
      "pregnancy                     :\t61\n",
      "parent support                :\t45\n",
      "potty training                :\t44\n",
      "parent-child interaction      :\t39\n",
      "sell exchange                 :\t39\n",
      "baby food                     :\t38\n",
      "child behavior problem        :\t35\n",
      "multiple children             :\t32\n",
      "other                         :\t29\n",
      "sinle parents                 :\t28\n",
      "working parents               :\t27\n",
      "dad parenting                 :\t25\n",
      "mom health                    :\t21\n",
      "parent education              :\t21\n",
      "school                        :\t20\n",
      "non-biological parents        :\t16\n",
      "economy                       :\t15\n",
      "play                          :\t10\n",
      "childcare                     :\t8\n",
      "child milestones              :\t5\n",
      "discipline                    :\t5\n",
      "emotion coaching              :\t4\n",
      "child appearances             :\t3\n",
      "language training             :\t2\n",
      "walk training                 :\t1\n"
     ]
    }
   ],
   "source": [
    "for i in sorted(range(len(frequency)), key = lambda i : frequency[i], reverse=True):\n",
    "    print(f\"{id_to_word[i]:<30}:\\t{int(frequency[i])}\")"
   ]
  },
  {
   "cell_type": "code",
   "execution_count": null,
   "metadata": {},
   "outputs": [],
   "source": []
  }
 ],
 "metadata": {
  "kernelspec": {
   "display_name": "nlp",
   "language": "python",
   "name": "nlp"
  },
  "language_info": {
   "codemirror_mode": {
    "name": "ipython",
    "version": 3
   },
   "file_extension": ".py",
   "mimetype": "text/x-python",
   "name": "python",
   "nbconvert_exporter": "python",
   "pygments_lexer": "ipython3",
   "version": "3.6.10"
  }
 },
 "nbformat": 4,
 "nbformat_minor": 2
}
