{
 "cells": [
  {
   "cell_type": "markdown",
   "metadata": {},
   "source": [
    "# BERT Classifier\n",
    "\n",
    "Use Yujia's BERT classifier code with all the new data we got."
   ]
  },
  {
   "cell_type": "markdown",
   "metadata": {
    "toc": true
   },
   "source": [
    "<h1>Table of Contents<span class=\"tocSkip\"></span></h1>\n",
    "<div class=\"toc\"><ul class=\"toc-item\"><li><span><a href=\"#Import-Packages-and-Load-Data\" data-toc-modified-id=\"Import-Packages-and-Load-Data-1\"><span class=\"toc-item-num\">1&nbsp;&nbsp;</span>Import Packages and Load Data</a></span><ul class=\"toc-item\"><li><span><a href=\"#Load-Data\" data-toc-modified-id=\"Load-Data-1.1\"><span class=\"toc-item-num\">1.1&nbsp;&nbsp;</span>Load Data</a></span></li><li><span><a href=\"#Prepare-GPU\" data-toc-modified-id=\"Prepare-GPU-1.2\"><span class=\"toc-item-num\">1.2&nbsp;&nbsp;</span>Prepare GPU</a></span></li></ul></li><li><span><a href=\"#Data-Pre-Processing\" data-toc-modified-id=\"Data-Pre-Processing-2\"><span class=\"toc-item-num\">2&nbsp;&nbsp;</span>Data Pre-Processing</a></span><ul class=\"toc-item\"><li><span><a href=\"#BERT-Tokenizer-and-Padding\" data-toc-modified-id=\"BERT-Tokenizer-and-Padding-2.1\"><span class=\"toc-item-num\">2.1&nbsp;&nbsp;</span>BERT Tokenizer and Padding</a></span></li><li><span><a href=\"#Attention-Masks\" data-toc-modified-id=\"Attention-Masks-2.2\"><span class=\"toc-item-num\">2.2&nbsp;&nbsp;</span>Attention Masks</a></span></li></ul></li><li><span><a href=\"#Prepare-Model\" data-toc-modified-id=\"Prepare-Model-3\"><span class=\"toc-item-num\">3&nbsp;&nbsp;</span>Prepare Model</a></span><ul class=\"toc-item\"><li><span><a href=\"#Train-Test-Split\" data-toc-modified-id=\"Train-Test-Split-3.1\"><span class=\"toc-item-num\">3.1&nbsp;&nbsp;</span>Train Test Split</a></span></li><li><span><a href=\"#Multilabel-Classifier\" data-toc-modified-id=\"Multilabel-Classifier-3.2\"><span class=\"toc-item-num\">3.2&nbsp;&nbsp;</span>Multilabel Classifier</a></span></li><li><span><a href=\"#Classifier-per-Topic\" data-toc-modified-id=\"Classifier-per-Topic-3.3\"><span class=\"toc-item-num\">3.3&nbsp;&nbsp;</span>Classifier per Topic</a></span></li><li><span><a href=\"#Train---Test-Curve\" data-toc-modified-id=\"Train---Test-Curve-3.4\"><span class=\"toc-item-num\">3.4&nbsp;&nbsp;</span>Train - Test Curve</a></span></li><li><span><a href=\"#Evaluation\" data-toc-modified-id=\"Evaluation-3.5\"><span class=\"toc-item-num\">3.5&nbsp;&nbsp;</span>Evaluation</a></span></li></ul></li><li><span><a href=\"#Run-Model\" data-toc-modified-id=\"Run-Model-4\"><span class=\"toc-item-num\">4&nbsp;&nbsp;</span>Run Model</a></span><ul class=\"toc-item\"><li><span><a href=\"#Data-Preparation\" data-toc-modified-id=\"Data-Preparation-4.1\"><span class=\"toc-item-num\">4.1&nbsp;&nbsp;</span>Data Preparation</a></span></li></ul></li><li><span><a href=\"#Save-Trained-Models\" data-toc-modified-id=\"Save-Trained-Models-5\"><span class=\"toc-item-num\">5&nbsp;&nbsp;</span>Save Trained Models</a></span></li></ul></div>"
   ]
  },
  {
   "cell_type": "code",
   "execution_count": 1,
   "metadata": {},
   "outputs": [],
   "source": [
    "batch_size=4\n",
    "gpu_id=1\n",
    "epochs = 4\n",
    "topics = topic_to_id.keys()\n",
    "# topics = ['child product', 'mom health', 'child milestones']"
   ]
  },
  {
   "cell_type": "code",
   "execution_count": 2,
   "metadata": {},
   "outputs": [],
   "source": [
    "# device = torch.device(1)\n",
    "# if device.type == 'cuda':\n",
    "#     print(torch.cuda.get_device_name(torch.cuda.current_device()))\n",
    "#     print('Memory Usage:')\n",
    "#     print('Allocated:', round(torch.cuda.memory_allocated(0)/1024**3,1), 'GB')\n",
    "#     print('Cached:   ', round(torch.cuda.memory_cached(0)/1024**3,1), 'GB')"
   ]
  },
  {
   "cell_type": "markdown",
   "metadata": {},
   "source": [
    "## Import Packages and Load Data\n",
    "\n",
    "Can be later changed to pull data from GitHub, but for now just do it from a local path."
   ]
  },
  {
   "cell_type": "code",
   "execution_count": 3,
   "metadata": {},
   "outputs": [
    {
     "name": "stdout",
     "output_type": "stream",
     "text": [
      "['20200422-multilabel.h5', '.ipynb_checkpoints', 'facebook', '0527_reddit_1300_parenting_clean.csv', 'extra_data', 'labeled_only-reddit_796_of_1300.h5', '20200405-topic_to_id.pickle', '20200405-topic_per_row.h5']\n"
     ]
    },
    {
     "name": "stderr",
     "output_type": "stream",
     "text": [
      "Using TensorFlow backend.\n"
     ]
    }
   ],
   "source": [
    "# Input data files are available in the \"../data/\" directory.\n",
    "import pickle\n",
    "import os\n",
    "print(os.listdir(\"../data\"))\n",
    "\n",
    "# Basics + Viz\n",
    "import time\n",
    "import datetime\n",
    "import torch\n",
    "import pandas as pd\n",
    "import numpy as np\n",
    "import matplotlib.pyplot as plt\n",
    "import random\n",
    "import seaborn as sns\n",
    "\n",
    "# Pre-processing\n",
    "from transformers import BertTokenizer\n",
    "from keras.preprocessing.sequence import pad_sequences\n",
    "\n",
    "# Models\n",
    "from sklearn.model_selection import train_test_split\n",
    "from transformers import BertForSequenceClassification, AdamW, BertConfig\n",
    "from torch.utils.data import TensorDataset, DataLoader, RandomSampler, SequentialSampler\n",
    "from transformers import get_linear_schedule_with_warmup\n",
    "\n",
    "# Metrics\n",
    "from sklearn.metrics import classification_report\n",
    "from sklearn.metrics import matthews_corrcoef\n",
    "from sklearn.metrics import roc_auc_score\n",
    "from sklearn.metrics import f1_score\n",
    "from sklearn.metrics import confusion_matrix\n",
    "\n",
    "# Suppress warnings\n",
    "import warnings\n",
    "from sklearn.exceptions import UndefinedMetricWarning\n",
    "warnings.filterwarnings(action='ignore', category=UndefinedMetricWarning)\n",
    "\n",
    "# # Memory Debugging\n",
    "# from pytorch_memlab import profile, set_target_gpu\n",
    "\n",
    "# set_target_gpu(gpu_id)"
   ]
  },
  {
   "cell_type": "markdown",
   "metadata": {},
   "source": [
    "### Load Data"
   ]
  },
  {
   "cell_type": "code",
   "execution_count": 4,
   "metadata": {},
   "outputs": [
    {
     "name": "stdout",
     "output_type": "stream",
     "text": [
      "(259, 33)\n",
      "(665, 33)\n",
      "(59, 33)\n",
      "(590, 33)\n",
      "(796, 33)\n",
      "(249, 33)\n",
      "Total: (2618, 33)\n"
     ]
    }
   ],
   "source": [
    "# load dictionary\n",
    "with open(\"../data/20200405-topic_to_id.pickle\", \"rb\") as input_file:\n",
    "    topic_to_id = pickle.load(input_file)\n",
    "\n",
    "# load data\n",
    "data_folder = '../data/extra_data/aug/'\n",
    "df = pd.DataFrame()\n",
    "file_names = os.listdir(data_folder)\n",
    "\n",
    "for f in file_names:\n",
    "    temp = pd.read_csv(data_folder + f)\n",
    "    print(temp.shape)\n",
    "    df = pd.concat([df, temp])\n",
    "\n",
    "print(f\"Total: {df.shape}\")"
   ]
  },
  {
   "cell_type": "markdown",
   "metadata": {},
   "source": [
    "### Prepare GPU "
   ]
  },
  {
   "cell_type": "code",
   "execution_count": 5,
   "metadata": {
    "colab": {
     "base_uri": "https://localhost:8080/",
     "height": 50
    },
    "colab_type": "code",
    "id": "4V7iUEJbJgdU",
    "outputId": "4ac6fb0f-4859-4c7f-e2b0-bc63ad439876"
   },
   "outputs": [
    {
     "name": "stdout",
     "output_type": "stream",
     "text": [
      "There are 2 GPU(s) available.\n",
      "We will use the GPU: GeForce RTX 2080 Ti\n"
     ]
    }
   ],
   "source": [
    "# If there's a GPU available...\n",
    "if torch.cuda.is_available():    \n",
    "\n",
    "    # Tell PyTorch to use the GPU.    \n",
    "    device = torch.device(gpu_id)\n",
    "\n",
    "    print('There are %d GPU(s) available.' % torch.cuda.device_count())\n",
    "\n",
    "    print('We will use the GPU:', torch.cuda.get_device_name(torch.cuda.current_device()))\n",
    "\n",
    "# If not...\n",
    "else:\n",
    "    print('No GPU available, using the CPU instead.')\n",
    "    device = torch.device(\"cpu\")"
   ]
  },
  {
   "cell_type": "markdown",
   "metadata": {},
   "source": [
    "## Data Pre-Processing\n",
    "\n",
    "Use https://github.com/huggingface/transformers BERTTokenizer to change all the words into IDs."
   ]
  },
  {
   "cell_type": "markdown",
   "metadata": {},
   "source": [
    "### BERT Tokenizer and Padding"
   ]
  },
  {
   "cell_type": "code",
   "execution_count": 6,
   "metadata": {
    "colab": {
     "base_uri": "https://localhost:8080/",
     "height": 33
    },
    "colab_type": "code",
    "id": "PavXKE1PJ26F",
    "outputId": "d6846f77-67c3-4e60-aaed-0cd75497fcbc",
    "scrolled": false
   },
   "outputs": [
    {
     "name": "stdout",
     "output_type": "stream",
     "text": [
      "Loading BERT tokenizer...\n"
     ]
    }
   ],
   "source": [
    "# Load the BERT tokenizer.\n",
    "print('Loading BERT tokenizer...')\n",
    "tokenizer = BertTokenizer.from_pretrained('bert-base-uncased', do_lower_case=True)"
   ]
  },
  {
   "cell_type": "code",
   "execution_count": 7,
   "metadata": {},
   "outputs": [
    {
     "name": "stderr",
     "output_type": "stream",
     "text": [
      "Token indices sequence length is longer than the specified maximum sequence length for this model (601 > 512). Running this sequence through the model will result in indexing errors\n",
      "Token indices sequence length is longer than the specified maximum sequence length for this model (580 > 512). Running this sequence through the model will result in indexing errors\n",
      "Token indices sequence length is longer than the specified maximum sequence length for this model (544 > 512). Running this sequence through the model will result in indexing errors\n",
      "Token indices sequence length is longer than the specified maximum sequence length for this model (835 > 512). Running this sequence through the model will result in indexing errors\n",
      "Token indices sequence length is longer than the specified maximum sequence length for this model (662 > 512). Running this sequence through the model will result in indexing errors\n",
      "Token indices sequence length is longer than the specified maximum sequence length for this model (766 > 512). Running this sequence through the model will result in indexing errors\n",
      "Token indices sequence length is longer than the specified maximum sequence length for this model (546 > 512). Running this sequence through the model will result in indexing errors\n",
      "Token indices sequence length is longer than the specified maximum sequence length for this model (575 > 512). Running this sequence through the model will result in indexing errors\n",
      "Token indices sequence length is longer than the specified maximum sequence length for this model (666 > 512). Running this sequence through the model will result in indexing errors\n",
      "Token indices sequence length is longer than the specified maximum sequence length for this model (566 > 512). Running this sequence through the model will result in indexing errors\n",
      "Token indices sequence length is longer than the specified maximum sequence length for this model (522 > 512). Running this sequence through the model will result in indexing errors\n",
      "Token indices sequence length is longer than the specified maximum sequence length for this model (854 > 512). Running this sequence through the model will result in indexing errors\n",
      "Token indices sequence length is longer than the specified maximum sequence length for this model (578 > 512). Running this sequence through the model will result in indexing errors\n",
      "Token indices sequence length is longer than the specified maximum sequence length for this model (791 > 512). Running this sequence through the model will result in indexing errors\n",
      "Token indices sequence length is longer than the specified maximum sequence length for this model (596 > 512). Running this sequence through the model will result in indexing errors\n",
      "Token indices sequence length is longer than the specified maximum sequence length for this model (1033 > 512). Running this sequence through the model will result in indexing errors\n",
      "Token indices sequence length is longer than the specified maximum sequence length for this model (626 > 512). Running this sequence through the model will result in indexing errors\n",
      "Token indices sequence length is longer than the specified maximum sequence length for this model (962 > 512). Running this sequence through the model will result in indexing errors\n",
      "Token indices sequence length is longer than the specified maximum sequence length for this model (652 > 512). Running this sequence through the model will result in indexing errors\n",
      "Token indices sequence length is longer than the specified maximum sequence length for this model (569 > 512). Running this sequence through the model will result in indexing errors\n",
      "Token indices sequence length is longer than the specified maximum sequence length for this model (698 > 512). Running this sequence through the model will result in indexing errors\n",
      "Token indices sequence length is longer than the specified maximum sequence length for this model (1677 > 512). Running this sequence through the model will result in indexing errors\n",
      "Token indices sequence length is longer than the specified maximum sequence length for this model (890 > 512). Running this sequence through the model will result in indexing errors\n",
      "Token indices sequence length is longer than the specified maximum sequence length for this model (1890 > 512). Running this sequence through the model will result in indexing errors\n",
      "Token indices sequence length is longer than the specified maximum sequence length for this model (898 > 512). Running this sequence through the model will result in indexing errors\n",
      "Token indices sequence length is longer than the specified maximum sequence length for this model (845 > 512). Running this sequence through the model will result in indexing errors\n",
      "Token indices sequence length is longer than the specified maximum sequence length for this model (511 > 512). Running this sequence through the model will result in indexing errors\n",
      "Token indices sequence length is longer than the specified maximum sequence length for this model (551 > 512). Running this sequence through the model will result in indexing errors\n",
      "Token indices sequence length is longer than the specified maximum sequence length for this model (553 > 512). Running this sequence through the model will result in indexing errors\n",
      "Token indices sequence length is longer than the specified maximum sequence length for this model (555 > 512). Running this sequence through the model will result in indexing errors\n",
      "Token indices sequence length is longer than the specified maximum sequence length for this model (887 > 512). Running this sequence through the model will result in indexing errors\n",
      "Token indices sequence length is longer than the specified maximum sequence length for this model (1602 > 512). Running this sequence through the model will result in indexing errors\n",
      "Token indices sequence length is longer than the specified maximum sequence length for this model (586 > 512). Running this sequence through the model will result in indexing errors\n",
      "Token indices sequence length is longer than the specified maximum sequence length for this model (567 > 512). Running this sequence through the model will result in indexing errors\n",
      "Token indices sequence length is longer than the specified maximum sequence length for this model (579 > 512). Running this sequence through the model will result in indexing errors\n",
      "Token indices sequence length is longer than the specified maximum sequence length for this model (513 > 512). Running this sequence through the model will result in indexing errors\n",
      "Token indices sequence length is longer than the specified maximum sequence length for this model (638 > 512). Running this sequence through the model will result in indexing errors\n",
      "Token indices sequence length is longer than the specified maximum sequence length for this model (987 > 512). Running this sequence through the model will result in indexing errors\n",
      "Token indices sequence length is longer than the specified maximum sequence length for this model (682 > 512). Running this sequence through the model will result in indexing errors\n",
      "Token indices sequence length is longer than the specified maximum sequence length for this model (707 > 512). Running this sequence through the model will result in indexing errors\n",
      "Token indices sequence length is longer than the specified maximum sequence length for this model (831 > 512). Running this sequence through the model will result in indexing errors\n",
      "Token indices sequence length is longer than the specified maximum sequence length for this model (970 > 512). Running this sequence through the model will result in indexing errors\n",
      "Token indices sequence length is longer than the specified maximum sequence length for this model (798 > 512). Running this sequence through the model will result in indexing errors\n",
      "Token indices sequence length is longer than the specified maximum sequence length for this model (799 > 512). Running this sequence through the model will result in indexing errors\n",
      "Token indices sequence length is longer than the specified maximum sequence length for this model (596 > 512). Running this sequence through the model will result in indexing errors\n"
     ]
    },
    {
     "name": "stderr",
     "output_type": "stream",
     "text": [
      "Token indices sequence length is longer than the specified maximum sequence length for this model (846 > 512). Running this sequence through the model will result in indexing errors\n",
      "Token indices sequence length is longer than the specified maximum sequence length for this model (623 > 512). Running this sequence through the model will result in indexing errors\n",
      "Token indices sequence length is longer than the specified maximum sequence length for this model (1082 > 512). Running this sequence through the model will result in indexing errors\n",
      "Token indices sequence length is longer than the specified maximum sequence length for this model (567 > 512). Running this sequence through the model will result in indexing errors\n",
      "Token indices sequence length is longer than the specified maximum sequence length for this model (562 > 512). Running this sequence through the model will result in indexing errors\n",
      "Token indices sequence length is longer than the specified maximum sequence length for this model (552 > 512). Running this sequence through the model will result in indexing errors\n",
      "Token indices sequence length is longer than the specified maximum sequence length for this model (542 > 512). Running this sequence through the model will result in indexing errors\n",
      "Token indices sequence length is longer than the specified maximum sequence length for this model (668 > 512). Running this sequence through the model will result in indexing errors\n",
      "Token indices sequence length is longer than the specified maximum sequence length for this model (1923 > 512). Running this sequence through the model will result in indexing errors\n",
      "Token indices sequence length is longer than the specified maximum sequence length for this model (585 > 512). Running this sequence through the model will result in indexing errors\n"
     ]
    }
   ],
   "source": [
    "# Set the maximum sequence length.\n",
    "MAX_LEN = 512\n",
    "\n",
    "sentence_lengths = []\n",
    "def tokenize_and_count(s, lst, max_len):\n",
    "    # `encode` will:\n",
    "    #   (1) Tokenize the sentence.\n",
    "    #   (2) Prepend the `[CLS]` token to the start.\n",
    "    #   (3) Append the `[SEP]` token to the end.\n",
    "    #   (4) Map tokens to their IDs.\n",
    "    answer = tokenizer.encode(s, add_special_tokens=True)\n",
    "    lst.append(len(answer))\n",
    "    \n",
    "    return answer\n",
    "\n",
    "df['bert'] = df.text.apply(lambda s : tokenize_and_count(s, sentence_lengths, MAX_LEN))\n",
    "df['bert_aug'] = df.aug.apply(lambda s : tokenize_and_count(s, sentence_lengths, MAX_LEN))"
   ]
  },
  {
   "cell_type": "markdown",
   "metadata": {},
   "source": [
    "It's obvious the default MAX_LEN=512 is not enough for some posts, but just how long are these posts?<br>\n",
    "<br>\n",
    "Turns out only 2% of all the sentences are above the length 512.<br>\n",
    "So we'll just proceed as normal and truncate/extend all the sentences to length 512, as most sentences are distributed between the 100~200 word range, we don't want to add too many padding to most sentences by setting the MAX_LEN to something too high."
   ]
  },
  {
   "cell_type": "code",
   "execution_count": 8,
   "metadata": {},
   "outputs": [
    {
     "name": "stdout",
     "output_type": "stream",
     "text": [
      "Out of the\n",
      "5236 total sentences,\n",
      "55 are over the length 512,\n",
      "Total of: 1.05%\n"
     ]
    }
   ],
   "source": [
    "max_len = 512\n",
    "temp = np.array(sentence_lengths)\n",
    "temp_count = len(temp[temp > max_len])\n",
    "temp_len = len(sentence_lengths)\n",
    "\n",
    "print(f\"Out of the\\n{temp_len} total sentences,\\n{temp_count} are over the length {max_len},\\nTotal of: {(temp_count/temp_len * 100):.2f}%\")"
   ]
  },
  {
   "cell_type": "code",
   "execution_count": 9,
   "metadata": {},
   "outputs": [
    {
     "data": {
      "image/png": "[encoded data removed]",
      "text/plain": [
       "<Figure size 432x288 with 1 Axes>"
      ]
     },
     "metadata": {
      "needs_background": "light"
     },
     "output_type": "display_data"
    }
   ],
   "source": [
    "n, bins, patches = plt.hist(sentence_lengths, bins=[30 * i for i in range(50)], facecolor='red', alpha=0.5)\n",
    "_ = plt.axvline(512)"
   ]
  },
  {
   "cell_type": "code",
   "execution_count": 10,
   "metadata": {},
   "outputs": [],
   "source": [
    "# Pad our input tokens with value 0.\n",
    "# \"post\" indicates that we want to pad and truncate at the end of the sequence,\n",
    "# as opposed to the beginning.\n",
    "df['bert'] = pad_sequences(df['bert'].values, maxlen=MAX_LEN, dtype=\"long\", \n",
    "                          value=0, truncating=\"post\", padding=\"post\").tolist()\n",
    "df['bert_aug'] = pad_sequences(df['bert_aug'].values, maxlen=MAX_LEN, dtype=\"long\", \n",
    "                          value=0, truncating=\"post\", padding=\"post\").tolist()"
   ]
  },
  {
   "cell_type": "markdown",
   "metadata": {},
   "source": [
    "### Attention Masks\n",
    "\n",
    "Source: https://huggingface.co/transformers/v2.2.0/model_doc/bert.html#transformers.BertForSequenceClassification\n",
    "<br>\n",
    "Attention masks are used to filter out the padding from each sentence. A simple format of 1 for a real word and 0 for padding."
   ]
  },
  {
   "cell_type": "code",
   "execution_count": 11,
   "metadata": {},
   "outputs": [],
   "source": [
    "# Create attention masks\n",
    "df['attention'] = df['bert'].apply(lambda arr : [int(token_id > 0) for token_id in arr])\n",
    "df['attention_aug'] = df['bert_aug'].apply(lambda arr : [int(token_id > 0) for token_id in arr])"
   ]
  },
  {
   "cell_type": "markdown",
   "metadata": {},
   "source": [
    "## Prepare Model"
   ]
  },
  {
   "cell_type": "markdown",
   "metadata": {},
   "source": [
    "### Train Test Split"
   ]
  },
  {
   "cell_type": "code",
   "execution_count": 12,
   "metadata": {},
   "outputs": [
    {
     "name": "stdout",
     "output_type": "stream",
     "text": [
      "0.2 split\n",
      "2094 lines of training data,\n",
      "524 lines of test data\n"
     ]
    }
   ],
   "source": [
    "test_size = 0.2\n",
    "train_df, test_df = train_test_split(df, random_state=42, test_size=test_size)\n",
    "\n",
    "print(f\"{test_size} split\\n{train_df.shape[0]} lines of training data,\\n{test_df.shape[0]} lines of test data\")"
   ]
  },
  {
   "cell_type": "markdown",
   "metadata": {},
   "source": [
    "### Multilabel Classifier\n",
    "__[TODO]__ Turns out this is harder to do. Figure this out later.\n",
    "\n",
    "For this classifier we are going to throw in all 30 labels as one big multilabel.<br>\n",
    "This is happening first mostly because it's easier to implement."
   ]
  },
  {
   "cell_type": "markdown",
   "metadata": {},
   "source": [
    "### Classifier per Topic"
   ]
  },
  {
   "cell_type": "markdown",
   "metadata": {},
   "source": [
    "__[TODO]__ Check if declaring those tensors on the device does anything."
   ]
  },
  {
   "cell_type": "markdown",
   "metadata": {
    "colab_type": "text",
    "id": "z6_nD-dPKi_8"
   },
   "source": [
    "Recommended hyperparameter values\n",
    "Batch size: 16, 32\n",
    "Learning rate (Adam): 5e-5, 3e-5, 2e-5\n",
    "Number of epochs: 2, 3, 4"
   ]
  },
  {
   "cell_type": "code",
   "execution_count": 13,
   "metadata": {
    "colab": {},
    "colab_type": "code",
    "id": "AgY9mNRNKqWP"
   },
   "outputs": [],
   "source": [
    "# Define some util functions\n",
    "\n",
    "# Function to calculate the accuracy of our predictions vs labels\n",
    "def flat_accuracy(preds, labels):\n",
    "    pred_flat = np.argmax(preds, axis=1).flatten()\n",
    "    labels_flat = labels.flatten()\n",
    "    try:\n",
    "        roc = roc_auc_score(pred_flat, labels_flat)\n",
    "    except ValueError:\n",
    "        roc = 0\n",
    "    return f1_score(pred_flat, labels_flat), roc, np.sum(pred_flat == labels_flat) / len(labels_flat)\n",
    "\n",
    "def format_time(elapsed):\n",
    "    '''\n",
    "    Takes a time in seconds and returns a string hh:mm:ss\n",
    "    '''\n",
    "    elapsed_rounded = int(round((elapsed)))\n",
    "    return str(datetime.timedelta(seconds=elapsed_rounded))"
   ]
  },
  {
   "cell_type": "markdown",
   "metadata": {},
   "source": [
    "Define the training script"
   ]
  },
  {
   "cell_type": "code",
   "execution_count": 14,
   "metadata": {},
   "outputs": [],
   "source": [
    "def single_topic_train(model, epochs, train_dataloader, test_dataloader, seed_val=42, verbose=False):\n",
    "    # This training code is based on the `run_glue.py` script here:\n",
    "    # https://github.com/huggingface/transformers/blob/5bfcd0485ece086ebcbed2d008813037968a9e58/examples/run_glue.py#L128\n",
    "\n",
    "    # Set the seed value all over the place to make this reproducible.\n",
    "    random.seed(seed_val)\n",
    "    np.random.seed(seed_val)\n",
    "    torch.manual_seed(seed_val)\n",
    "    torch.cuda.manual_seed_all(seed_val)\n",
    "    \n",
    "    # Store the average loss after each epoch so we can plot them.\n",
    "    training_losses = []\n",
    "    testing_losses = []\n",
    "    \n",
    "    for epoch_i in range(0, epochs):\n",
    "        # ========================================\n",
    "        #               Training\n",
    "        # ========================================\n",
    "\n",
    "        # Perform one full pass over the training set.\n",
    "        if verbose:\n",
    "            print(\"\")\n",
    "            print('======== Epoch {:} / {:} ========'.format(epoch_i + 1, epochs))\n",
    "            print('Training...')\n",
    "        \n",
    "        # Measure how long the training epoch takes.\n",
    "        t0 = time.time()\n",
    "\n",
    "        # Reset the total loss for this epoch.\n",
    "        total_train_loss = 0\n",
    "\n",
    "        # Put the model into training mode.\n",
    "        model.train()\n",
    "        \n",
    "        # For each batch of training data...\n",
    "        for step, batch in enumerate(train_dataloader):\n",
    "\n",
    "            if step % 40 == 0 and not step == 0:\n",
    "                elapsed = format_time(time.time() - t0)\n",
    "\n",
    "                # Report progress.\n",
    "                if verbose:\n",
    "                    print(f'  Batch {step:>5,}  of  {len(train_dataloader):>5,}.    Elapsed: {elapsed:}.')\n",
    "\n",
    "            # `batch` contains three pytorch tensors:\n",
    "            #   [0]: input ids \n",
    "            #   [1]: attention masks\n",
    "            #   [2]: labels \n",
    "            b_input_ids = batch[0].to(device)\n",
    "            b_input_mask = batch[1].to(device)\n",
    "            b_labels = batch[2].to(device)\n",
    "\n",
    "            model.zero_grad()        \n",
    "\n",
    "            outputs = model(b_input_ids, \n",
    "                        token_type_ids=None, \n",
    "                        attention_mask=b_input_mask, \n",
    "                        labels=b_labels)\n",
    "\n",
    "            loss = outputs[0]\n",
    "            total_train_loss += outputs[0].item()\n",
    "\n",
    "            loss.backward()\n",
    "\n",
    "            # Clip the norm of the gradients to 1.0.\n",
    "            # This is to help prevent the \"exploding gradients\" problem.\n",
    "            torch.nn.utils.clip_grad_norm_(model.parameters(), 1.0)\n",
    "\n",
    "            # Update parameters and take a step using the computed gradient.\n",
    "            optimizer.step()\n",
    "\n",
    "            # Update the learning rate.\n",
    "            scheduler.step()\n",
    "        \n",
    "        # Calculate the average loss over the training data.\n",
    "        avg_train_loss = total_train_loss / len(train_dataloader)            \n",
    "        training_losses.append(avg_train_loss)\n",
    "        \n",
    "        if verbose:\n",
    "            print(\"\")\n",
    "            print(\"  Average training loss: {0:.2f}\".format(avg_train_loss))\n",
    "            print(\"  Training epoch took: {:}\".format(format_time(time.time() - t0)))\n",
    "        \n",
    "        # ========================================\n",
    "        #               Validation\n",
    "        # ========================================\n",
    "        # After the completion of each training epoch, measure our performance on\n",
    "        # our validation set.\n",
    "\n",
    "        if verbose:\n",
    "            print(\"\")\n",
    "            print(\"Running Validation...\")\n",
    "        \n",
    "        # Measure how long the testing takes.\n",
    "        t0 = time.time()\n",
    "\n",
    "        # Reset the total loss for this epoch.\n",
    "        total_test_loss = 0\n",
    "\n",
    "        # Put the model in evaluation mode--the dropout layers behave differently\n",
    "        # during evaluation.\n",
    "        model.eval()\n",
    "\n",
    "        # Tracking variables \n",
    "        eval_loss, eval_accuracy, eval_f1, eval_auc = 0, 0, 0, 0\n",
    "        nb_eval_steps, nb_eval_examples = 0, 0\n",
    "\n",
    "        # Evaluate data for one epoch\n",
    "        for batch in test_dataloader:\n",
    "\n",
    "            # Add batch to GPU\n",
    "            batch = tuple(t.to(device) for t in batch)\n",
    "\n",
    "            # Unpack the inputs from our dataloader\n",
    "            b_input_ids, b_input_mask, b_labels = batch\n",
    "\n",
    "            # Telling the model not to compute or store gradients, saving memory and\n",
    "            # speeding up validation\n",
    "            with torch.no_grad():        \n",
    "                outputs = model(b_input_ids, \n",
    "                                token_type_ids=None, \n",
    "                                attention_mask=b_input_mask, \n",
    "                                labels=b_labels)\n",
    "\n",
    "            total_test_loss += outputs[0].item()\n",
    "\n",
    "            logits = outputs[1]\n",
    "            # Move logits and labels to CPU\n",
    "            logits = logits.detach().cpu().numpy()\n",
    "            label_ids = b_labels.to('cpu').numpy()\n",
    "\n",
    "            # Calculate the accuracy for this batch of test sentences.\n",
    "            tmp_eval_f1, tmp_eval_auc, tmp_eval_accuracy = flat_accuracy(logits, label_ids)\n",
    "\n",
    "            # Accumulate the total accuracy.\n",
    "            eval_accuracy += tmp_eval_accuracy\n",
    "            eval_f1 += tmp_eval_f1\n",
    "            eval_auc += tmp_eval_auc\n",
    "            # Track the number of batches\n",
    "            nb_eval_steps += 1\n",
    "\n",
    "        avg_test_loss = total_test_loss / len(test_dataloader)            \n",
    "        testing_losses.append(avg_test_loss)\n",
    "\n",
    "        # Report the final accuracy for this validation run.\n",
    "        if verbose:\n",
    "            print(\"  F1 Score: {0:.2f}\".format(eval_f1/nb_eval_steps))\n",
    "            print(\"  ROC_AUC: {0:.2f}\".format(eval_auc/nb_eval_steps))\n",
    "            print(\"  Accuracy: {0:.2f}\".format(eval_accuracy/nb_eval_steps))\n",
    "            print(\"  Validation took: {:}\".format(format_time(time.time() - t0)))\n",
    "            print(\"  Average validation loss: {0:.2f}\".format(avg_test_loss))\n",
    "        \n",
    "    return model, training_losses, testing_losses"
   ]
  },
  {
   "cell_type": "markdown",
   "metadata": {},
   "source": [
    "### Train - Test Curve"
   ]
  },
  {
   "cell_type": "code",
   "execution_count": 15,
   "metadata": {},
   "outputs": [],
   "source": [
    "def draw_test_train_curve(test_losses, train_losses, topic_name):\n",
    "    # Use plot styling from seaborn.\n",
    "    sns.set(style='darkgrid')\n",
    "\n",
    "    # Increase the plot size and font size.\n",
    "    sns.set(font_scale=1.5)\n",
    "    plt.rcParams[\"figure.figsize\"] = (12,6)\n",
    "\n",
    "    # Plot the learning curve.\n",
    "    plt.plot(train_losses, 'b-o', label='Train')\n",
    "    plt.plot(test_losses, 'r-o', label='Test')\n",
    "\n",
    "    # Label the plot.\n",
    "    plt.title(f\"Train/Test loss - {topic_name}\")\n",
    "    plt.xlabel(\"Epoch\")\n",
    "    plt.ylabel(\"Loss\")\n",
    "    plt.legend()\n",
    "\n",
    "    plt.show()"
   ]
  },
  {
   "cell_type": "markdown",
   "metadata": {},
   "source": [
    "### Evaluation"
   ]
  },
  {
   "cell_type": "code",
   "execution_count": 16,
   "metadata": {},
   "outputs": [],
   "source": [
    "def run_evaluation(model, test_dataloader, verbose=False):\n",
    "    # Put model in evaluation mode\n",
    "    model.eval()\n",
    "    \n",
    "    # Tracking variables \n",
    "    predictions , true_labels = [], []\n",
    "\n",
    "    # Predict \n",
    "    for batch in test_dataloader:\n",
    "        # Add batch to GPU\n",
    "        batch = tuple(t.to(device) for t in batch)\n",
    "\n",
    "        # Unpack the inputs from our dataloader\n",
    "        b_input_ids, b_input_mask, b_labels = batch\n",
    "\n",
    "        # Telling the model not to compute or store gradients, saving memory and \n",
    "        # speeding up prediction\n",
    "        with torch.no_grad():\n",
    "          # Forward pass, calculate logit predictions\n",
    "          outputs = model(b_input_ids, token_type_ids=None, \n",
    "                          attention_mask=b_input_mask)\n",
    "\n",
    "        logits = outputs[0]\n",
    "\n",
    "        # Move logits and labels to CPU\n",
    "        logits = logits.detach().cpu().numpy()\n",
    "        label_ids = b_labels.to('cpu').numpy()\n",
    "\n",
    "        # Store predictions and true labels\n",
    "        predictions.append(logits)\n",
    "        true_labels.append(label_ids)\n",
    "        \n",
    "    # Create results\n",
    "    matthews_set = []\n",
    "\n",
    "    # Evaluate each test batch using Matthew's correlation coefficient\n",
    "    if verbose:\n",
    "        print('Calculating Matthews Corr. Coef. for each batch...')\n",
    "\n",
    "    # For each input batch...\n",
    "    for i in range(len(true_labels)):\n",
    "        # The predictions for this batch are a 2-column ndarray (one column for \"0\" \n",
    "        # and one column for \"1\"). Pick the label with the highest value and turn this\n",
    "        # in to a list of 0s and 1s.\n",
    "        pred_labels_i = np.argmax(predictions[i], axis=1).flatten()\n",
    "        # Calculate and store the coef for this batch.  \n",
    "        matthews = matthews_corrcoef(true_labels[i], pred_labels_i)\n",
    "        \n",
    "        if verbose:\n",
    "            print(\"Predicted Label for Batch \" + str(i) + \" is \" + str(pred_labels_i))\n",
    "            print(\"True Label for Batch \" + str(i) + \" is \" + str(true_labels[i])) \n",
    "            print(\"Matthew's correlation coefficient for Batch \" + str(i) + \" is \" + str(matthews))\n",
    "        matthews_set.append(matthews)\n",
    "    \n",
    "    # Combine the predictions for each batch into a single list of 0s and 1s.\n",
    "    flat_predictions = [item for sublist in predictions for item in sublist]\n",
    "    flat_predictions = np.argmax(flat_predictions, axis=1).flatten()\n",
    "\n",
    "    # Combine the correct labels for each batch into a single list.\n",
    "    flat_true_labels = [item for sublist in true_labels for item in sublist]\n",
    "\n",
    "    # Calculate the MCC\n",
    "    mcc = matthews_corrcoef(flat_true_labels, flat_predictions)\n",
    "    f1 = f1_score(flat_true_labels, flat_predictions)\n",
    "    ra = roc_auc_score(flat_true_labels, flat_predictions)\n",
    "\n",
    "    cm = confusion_matrix(flat_true_labels, flat_predictions)\n",
    "    sns.heatmap(cm, annot=True)\n",
    "    plt.show()\n",
    "\n",
    "    print('MCC: %.3f' % mcc)\n",
    "    print('ROC_AUC: %.3f' % ra)\n",
    "    print('F1: %.3f' % f1)\n",
    "    print(classification_report(flat_true_labels, flat_predictions))"
   ]
  },
  {
   "cell_type": "markdown",
   "metadata": {},
   "source": [
    "## Run Model"
   ]
  },
  {
   "cell_type": "markdown",
   "metadata": {},
   "source": [
    "Run all the training for the topics we want to run.<br>\n",
    "Later, when we are sure of the model we're to use, we'll be running it for all 30 topics."
   ]
  },
  {
   "cell_type": "markdown",
   "metadata": {},
   "source": [
    "### Data Preparation\n",
    "\n",
    "We have augmented data within the same DataFrame as a separate column. Get it out."
   ]
  },
  {
   "cell_type": "code",
   "execution_count": 17,
   "metadata": {},
   "outputs": [],
   "source": [
    "def augmented_dataloader(train_df, test_df, topic, batch_size):\n",
    "    # Test data should NOT have any augmented data in it.\n",
    "    # Therefore the process is the same as the past.\n",
    "    test_x = torch.tensor(test_df.bert.values.tolist())\n",
    "    test_y = torch.tensor(test_df[topic].values.astype(int))\n",
    "    test_masks = torch.tensor(test_df.attention.values.tolist())\n",
    "    \n",
    "    test_data = TensorDataset(test_x, test_masks, test_y)\n",
    "    test_sampler = SequentialSampler(test_data)\n",
    "    test_dataloader = DataLoader(test_data, sampler=test_sampler, batch_size=batch_size)\n",
    "    \n",
    "    # Train data should have the augmented data added.\n",
    "    # BUT we only want the positive cased augmented. No need in throwing in more negative cases.\n",
    "    aug_index = train_df[topic] == 1\n",
    "    \n",
    "    train_x = train_df.bert.values.tolist() + train_df.bert_aug[aug_index].values.tolist()\n",
    "    train_y = train_df[topic].values.astype(int).tolist() + train_df[topic][aug_index].values.astype(int).tolist()\n",
    "    train_masks = train_df.attention.values.tolist() + train_df.attention[aug_index].values.tolist()\n",
    "    \n",
    "    train_x = torch.tensor(train_x)\n",
    "    train_y = torch.tensor(train_y)\n",
    "    train_masks = torch.tensor(train_masks)\n",
    "    \n",
    "    train_data = TensorDataset(train_x, train_masks, train_y)\n",
    "    train_sampler = RandomSampler(train_data)\n",
    "    train_dataloader = DataLoader(train_data, sampler=train_sampler, batch_size=batch_size)\n",
    "    \n",
    "    return train_dataloader, test_dataloader"
   ]
  },
  {
   "cell_type": "code",
   "execution_count": 18,
   "metadata": {
    "scrolled": false
   },
   "outputs": [
    {
     "data": {
      "image/png": "[encoded data removed]",
      "text/plain": [
       "<Figure size 864x432 with 1 Axes>"
      ]
     },
     "metadata": {},
     "output_type": "display_data"
    },
    {
     "name": "stdout",
     "output_type": "stream",
     "text": [
      "====================\n",
      "====================\n",
      "EVALUATION\n",
      "TOPIC: child product\n"
     ]
    },
    {
     "name": "stderr",
     "output_type": "stream",
     "text": [
      "/home/jupyter-jinu_jang/.conda/envs/nlp/lib/python3.6/site-packages/sklearn/metrics/_classification.py:900: RuntimeWarning: invalid value encountered in double_scalars\n",
      "  mcc = cov_ytyp / np.sqrt(cov_ytyt * cov_ypyp)\n"
     ]
    },
    {
     "data": {
      "image/png": "[encoded data removed]",
      "text/plain": [
       "<Figure size 864x432 with 2 Axes>"
      ]
     },
     "metadata": {},
     "output_type": "display_data"
    },
    {
     "name": "stdout",
     "output_type": "stream",
     "text": [
      "MCC: 0.697\n",
      "ROC_AUC: 0.839\n",
      "F1: 0.742\n",
      "              precision    recall  f1-score   support\n",
      "\n",
      "           0       0.95      0.96      0.95       442\n",
      "           1       0.77      0.72      0.74        82\n",
      "\n",
      "    accuracy                           0.92       524\n",
      "   macro avg       0.86      0.84      0.85       524\n",
      "weighted avg       0.92      0.92      0.92       524\n",
      "\n"
     ]
    },
    {
     "data": {
      "image/png": "[encoded data removed]",
      "text/plain": [
       "<Figure size 864x432 with 1 Axes>"
      ]
     },
     "metadata": {},
     "output_type": "display_data"
    },
    {
     "name": "stdout",
     "output_type": "stream",
     "text": [
      "====================\n",
      "====================\n",
      "EVALUATION\n",
      "TOPIC: mom health\n"
     ]
    },
    {
     "name": "stderr",
     "output_type": "stream",
     "text": [
      "/home/jupyter-jinu_jang/.conda/envs/nlp/lib/python3.6/site-packages/sklearn/metrics/_classification.py:900: RuntimeWarning: invalid value encountered in double_scalars\n",
      "  mcc = cov_ytyp / np.sqrt(cov_ytyt * cov_ypyp)\n"
     ]
    },
    {
     "data": {
      "image/png": "[encoded data removed]",
      "text/plain": [
       "<Figure size 864x432 with 2 Axes>"
      ]
     },
     "metadata": {},
     "output_type": "display_data"
    },
    {
     "name": "stdout",
     "output_type": "stream",
     "text": [
      "MCC: 0.694\n",
      "ROC_AUC: 0.847\n",
      "F1: 0.700\n",
      "              precision    recall  f1-score   support\n",
      "\n",
      "           0       0.99      0.99      0.99       514\n",
      "           1       0.70      0.70      0.70        10\n",
      "\n",
      "    accuracy                           0.99       524\n",
      "   macro avg       0.85      0.85      0.85       524\n",
      "weighted avg       0.99      0.99      0.99       524\n",
      "\n"
     ]
    },
    {
     "data": {
      "image/png": "[encoded data removed]",
      "text/plain": [
       "<Figure size 864x432 with 1 Axes>"
      ]
     },
     "metadata": {},
     "output_type": "display_data"
    },
    {
     "name": "stdout",
     "output_type": "stream",
     "text": [
      "====================\n",
      "====================\n",
      "EVALUATION\n",
      "TOPIC: child milestones\n"
     ]
    },
    {
     "name": "stderr",
     "output_type": "stream",
     "text": [
      "/home/jupyter-jinu_jang/.conda/envs/nlp/lib/python3.6/site-packages/sklearn/metrics/_classification.py:900: RuntimeWarning: invalid value encountered in double_scalars\n",
      "  mcc = cov_ytyp / np.sqrt(cov_ytyt * cov_ypyp)\n"
     ]
    },
    {
     "data": {
      "image/png": "[encoded data removed]",
      "text/plain": [
       "<Figure size 864x432 with 2 Axes>"
      ]
     },
     "metadata": {},
     "output_type": "display_data"
    },
    {
     "name": "stdout",
     "output_type": "stream",
     "text": [
      "MCC: 1.000\n",
      "ROC_AUC: 1.000\n",
      "F1: 1.000\n",
      "              precision    recall  f1-score   support\n",
      "\n",
      "           0       1.00      1.00      1.00       523\n",
      "           1       1.00      1.00      1.00         1\n",
      "\n",
      "    accuracy                           1.00       524\n",
      "   macro avg       1.00      1.00      1.00       524\n",
      "weighted avg       1.00      1.00      1.00       524\n",
      "\n"
     ]
    }
   ],
   "source": [
    "# Create x, y for each\n",
    "for topic in topics:\n",
    "    train_dataloader, test_dataloader = augmented_dataloader(train_df, test_df, topic, batch_size)\n",
    "    \n",
    "    # Then load the pretrained BERT model (has linear classification layer on top)\n",
    "    model = BertForSequenceClassification.from_pretrained(\n",
    "        \"bert-base-uncased\", # Use the 12-layer BERT model, with an uncased vocab.\n",
    "        num_labels = 2, # The number of output labels--2 for binary classification.\n",
    "                        # You can increase this for multi-class tasks.   \n",
    "        output_attentions = False, # Whether the model returns attentions weights.\n",
    "        output_hidden_states = False, # Whether the model returns all hidden-states.\n",
    "    )\n",
    "\n",
    "    model.cuda(device=device)\n",
    "    \n",
    "    # load optimizer\n",
    "    optimizer = AdamW(model.parameters(),\n",
    "                  lr = 2e-5, # args.learning_rate - default is 5e-5\n",
    "                  eps = 1e-8 # args.adam_epsilon  - default is 1e-8.\n",
    "                )\n",
    "    \n",
    "    # Total number of training steps is [number of batches] x [number of epochs]. \n",
    "    total_steps = len(train_dataloader) * epochs\n",
    "    scheduler = get_linear_schedule_with_warmup(optimizer, \n",
    "                                                num_warmup_steps = 0,\n",
    "                                                num_training_steps = total_steps)\n",
    "    \n",
    "    model, train_losses, test_losses = single_topic_train(model, epochs,\n",
    "                                                    train_dataloader,\n",
    "                                                    test_dataloader,\n",
    "                                                    seed_val=42)\n",
    "    \n",
    "    # Visualize test and train curve\n",
    "    draw_test_train_curve(test_losses, train_losses, topic)\n",
    "    \n",
    "    # Evaluation results\n",
    "    print(\"====================\")\n",
    "    print(\"====================\")\n",
    "    print(\"EVALUATION\")\n",
    "    print(f\"TOPIC: {topic}\")\n",
    "    run_evaluation(model, test_dataloader, verbose=False)"
   ]
  },
  {
   "cell_type": "markdown",
   "metadata": {},
   "source": [
    "## Save Trained Models"
   ]
  },
  {
   "cell_type": "code",
   "execution_count": 19,
   "metadata": {
    "colab": {},
    "colab_type": "code",
    "id": "daUS3De4VV3J"
   },
   "outputs": [],
   "source": [
    "# # Saving best-practices: if you use defaults names for the model, you can reload it using from_pretrained()\n",
    "\n",
    "# output_dir = './{}_model_save/'.format(\"child_product\".replace(' ', '_'))\n",
    "# print(output_dir)\n",
    "# # Create output directory if needed\n",
    "# if not os.path.exists(output_dir):\n",
    "#     os.makedirs(output_dir)\n",
    "\n",
    "# print(\"Saving model to %s\" % output_dir)\n",
    "\n",
    "# # Save a trained model, configuration and tokenizer using `save_pretrained()`.\n",
    "# # They can then be reloaded using `from_pretrained()`\n",
    "# model_to_save = model.module if hasattr(model, 'module') else model  # Take care of distributed/parallel training\n",
    "# model_to_save.save_pretrained(output_dir)\n",
    "# tokenizer.save_pretrained(output_dir)\n",
    "\n",
    "# # Good practice: save your training arguments together with the trained model\n",
    "# # torch.save(args, os.path.join(output_dir, 'training_args.bin'))"
   ]
  }
 ],
 "metadata": {
  "accelerator": "GPU",
  "colab": {
   "collapsed_sections": [],
   "name": "PARENTING_BERT.ipynb",
   "provenance": []
  },
  "kernelspec": {
   "display_name": "nlp",
   "language": "python",
   "name": "nlp"
  },
  "language_info": {
   "codemirror_mode": {
    "name": "ipython",
    "version": 3
   },
   "file_extension": ".py",
   "mimetype": "text/x-python",
   "name": "python",
   "nbconvert_exporter": "python",
   "pygments_lexer": "ipython3",
   "version": "3.6.10"
  },
  "toc": {
   "base_numbering": 1,
   "nav_menu": {
    "height": "182px",
    "width": "182px"
   },
   "number_sections": true,
   "sideBar": true,
   "skip_h1_title": true,
   "title_cell": "Table of Contents",
   "title_sidebar": "Contents",
   "toc_cell": true,
   "toc_position": {
    "height": "1275.02px",
    "left": "45px",
    "top": "111.483px",
    "width": "265.083px"
   },
   "toc_section_display": true,
   "toc_window_display": true
  }
 },
 "nbformat": 4,
 "nbformat_minor": 1
}
