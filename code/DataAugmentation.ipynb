{
 "cells": [
  {
   "cell_type": "markdown",
   "metadata": {},
   "source": [
    "# Data Augmentation\n",
    "\n",
    "By now it's a known problem that our positive cases are seriously inbalanced.<br>\n",
    "Which is why we're going to add augmented data to the dataset.<br>\n",
    "<br>\n",
    "The augmentation will be simple. We're going to translate our sentences into German and then back into English.<br>\n",
    "<br>\n",
    "We use machine translation models, and because this process is a time costly procedure, we have chosen not to add this as a part of our data processing pipeline, but rather to have it pre-processed.<br>\n",
    "Also as the 'multilabel' data are the only ones we actually use, that will be the only one processed."
   ]
  },
  {
   "cell_type": "markdown",
   "metadata": {
    "toc": true
   },
   "source": [
    "<h1>Table of Contents<span class=\"tocSkip\"></span></h1>\n",
    "<div class=\"toc\"><ul class=\"toc-item\"><li><span><a href=\"#Load-all-data\" data-toc-modified-id=\"Load-all-data-1\"><span class=\"toc-item-num\">1&nbsp;&nbsp;</span>Load all data</a></span></li><li><span><a href=\"#Prepare-Translation-Models\" data-toc-modified-id=\"Prepare-Translation-Models-2\"><span class=\"toc-item-num\">2&nbsp;&nbsp;</span>Prepare Translation Models</a></span></li><li><span><a href=\"#Translate\" data-toc-modified-id=\"Translate-3\"><span class=\"toc-item-num\">3&nbsp;&nbsp;</span>Translate</a></span></li><li><span><a href=\"#Erase-Unnamed:-0\" data-toc-modified-id=\"Erase-Unnamed:-0-4\"><span class=\"toc-item-num\">4&nbsp;&nbsp;</span>Erase Unnamed: 0</a></span></li></ul></div>"
   ]
  },
  {
   "cell_type": "code",
   "execution_count": 1,
   "metadata": {},
   "outputs": [],
   "source": [
    "import os\n",
    "import pickle\n",
    "import pandas as pd\n",
    "import numpy as np\n",
    "\n",
    "from datetime import date, datetime\n",
    "\n",
    "# Machine Translatio\n",
    "import torch\n",
    "import fairseq"
   ]
  },
  {
   "cell_type": "markdown",
   "metadata": {},
   "source": [
    "arXiv:2004.10972\n",
    "Sets both temperature to 0.8, we follow suit"
   ]
  },
  {
   "cell_type": "code",
   "execution_count": null,
   "metadata": {},
   "outputs": [],
   "source": [
    "en2de_temperature = 0.8\n",
    "de2en_temperature = 0.8"
   ]
  },
  {
   "cell_type": "markdown",
   "metadata": {},
   "source": [
    "## Load all data"
   ]
  },
  {
   "cell_type": "code",
   "execution_count": null,
   "metadata": {},
   "outputs": [],
   "source": [
    "with open(\"../data/20200405-topic_to_id.pickle\", \"rb\") as input_file:\n",
    "    topic_to_id = pickle.load(input_file)"
   ]
  },
  {
   "cell_type": "code",
   "execution_count": null,
   "metadata": {},
   "outputs": [],
   "source": [
    "data_folder = './data/extra_data/multilabel/'\n",
    "dfs = []\n",
    "file_names = os.listdir(data_folder)\n",
    "for f in file_names:\n",
    "    dfs.append(pd.read_csv(data_folder + f))"
   ]
  },
  {
   "cell_type": "markdown",
   "metadata": {},
   "source": [
    "## Prepare Translation Models"
   ]
  },
  {
   "cell_type": "code",
   "execution_count": null,
   "metadata": {},
   "outputs": [],
   "source": [
    "de2en = torch.hub.load('pytorch/fairseq',\n",
    "                       'transformer.wmt19.de-en',\n",
    "                       checkpoint_file='model1.pt:model2.pt:model3.pt:model4.pt',\n",
    "                       tokenizer='moses',\n",
    "                       bpe='fastbpe')\n",
    "en2de = torch.hub.load('pytorch/fairseq',\n",
    "                       'transformer.wmt19.en-de',\n",
    "                       checkpoint_file='model1.pt:model2.pt:model3.pt:model4.pt',\n",
    "                       tokenizer='moses',\n",
    "                       bpe='fastbpe')"
   ]
  },
  {
   "cell_type": "code",
   "execution_count": null,
   "metadata": {},
   "outputs": [],
   "source": [
    "# Move models to GPU\n",
    "de2en = de2en.cuda()\n",
    "en2de = en2de.cuda()"
   ]
  },
  {
   "cell_type": "markdown",
   "metadata": {},
   "source": [
    "## Translate"
   ]
  },
  {
   "cell_type": "code",
   "execution_count": null,
   "metadata": {},
   "outputs": [],
   "source": [
    "out_folder ='../data/extra_data/aug/'"
   ]
  },
  {
   "cell_type": "code",
   "execution_count": null,
   "metadata": {},
   "outputs": [],
   "source": [
    "def read_timedelta(td):\n",
    "    return td.days, td.seconds//3600, (td.seconds//60), td.seconds%60"
   ]
  },
  {
   "cell_type": "code",
   "execution_count": null,
   "metadata": {},
   "outputs": [],
   "source": [
    "df = dfs[1]\n",
    "filename = file_names[1]\n",
    "\n",
    "start = datetime.now()\n",
    "print(start.strftime(\"%B %d, %Y %I:%M%p\"))\n",
    "df['aug'] = df['text'].apply(lambda s : de2en.translate(en2de.translate(s, sampling=True, temperature=en2de_temperature), sampling=True, temperature=de2en_temperature))\n",
    "filename = f.replace('Multi', 'Aug')\n",
    "filename = date.today().strftime(\"%Y%m%d\") + filename[8:]\n",
    "df.to_csv(out_folder + filename, index=False)\n",
    "end = datetime.now()\n",
    "print(f\"Done: {filename}\")\n",
    "print('{} days, {}H {}m {}s'.format(read_timedelta(end-start)))"
   ]
  },
  {
   "cell_type": "code",
   "execution_count": null,
   "metadata": {},
   "outputs": [],
   "source": [
    "df = dfs[2]\n",
    "filename = file_names[2]\n",
    "\n",
    "start = datetime.now()\n",
    "print(start.strftime(\"%B %d, %Y %I:%M%p\"))\n",
    "df['aug'] = df['text'].apply(lambda s : de2en.translate(en2de.translate(s, sampling=True, temperature=en2de_temperature), sampling=True, temperature=de2en_temperature))\n",
    "filename = f.replace('Multi', 'Aug')\n",
    "filename = date.today().strftime(\"%Y%m%d\") + filename[8:]\n",
    "df.to_csv(out_folder + filename, index=False)\n",
    "end = datetime.now()\n",
    "print(f\"Done: {filename}\")\n",
    "print('{} days, {}H {}m {}s'.format(read_timedelta(end-start)))"
   ]
  },
  {
   "cell_type": "code",
   "execution_count": null,
   "metadata": {},
   "outputs": [],
   "source": [
    "df = dfs[3]\n",
    "filename = file_names[3]\n",
    "\n",
    "start = datetime.now()\n",
    "print(start.strftime(\"%B %d, %Y %I:%M%p\"))\n",
    "df['aug'] = df['text'].apply(lambda s : de2en.translate(en2de.translate(s, sampling=True, temperature=en2de_temperature), sampling=True, temperature=de2en_temperature))\n",
    "filename = f.replace('Multi', 'Aug')\n",
    "filename = date.today().strftime(\"%Y%m%d\") + filename[8:]\n",
    "df.to_csv(out_folder + filename, index=False)\n",
    "end = datetime.now()\n",
    "print(f\"Done: {filename}\")\n",
    "print('{} days, {}H {}m {}s'.format(read_timedelta(end-start)))"
   ]
  },
  {
   "cell_type": "code",
   "execution_count": null,
   "metadata": {},
   "outputs": [],
   "source": [
    "df = dfs[4]\n",
    "filename = file_names[4]\n",
    "\n",
    "start = datetime.now()\n",
    "print(start.strftime(\"%B %d, %Y %I:%M%p\"))\n",
    "df['aug'] = df['text'].apply(lambda s : de2en.translate(en2de.translate(s, sampling=True, temperature=en2de_temperature), sampling=True, temperature=de2en_temperature))\n",
    "filename = f.replace('Multi', 'Aug')\n",
    "filename = date.today().strftime(\"%Y%m%d\") + filename[8:]\n",
    "df.to_csv(out_folder + filename, index=False)\n",
    "end = datetime.now()\n",
    "print(f\"Done: {filename}\")\n",
    "print('{} days, {}H {}m {}s'.format(read_timedelta(end-start)))"
   ]
  },
  {
   "cell_type": "markdown",
   "metadata": {},
   "source": [
    "## Erase Unnamed: 0"
   ]
  },
  {
   "cell_type": "code",
   "execution_count": 3,
   "metadata": {},
   "outputs": [],
   "source": [
    "import os\n",
    "import pandas as pd"
   ]
  },
  {
   "cell_type": "code",
   "execution_count": 5,
   "metadata": {},
   "outputs": [],
   "source": [
    "data_folder = '../data/extra_data/aug/'\n",
    "file_names = os.listdir(data_folder)\n",
    "for f in file_names:\n",
    "    pd.read_csv(data_folder + f).drop(['Unnamed: 0'], axis=1).to_csv(data_folder + f, index=False)"
   ]
  },
  {
   "cell_type": "code",
   "execution_count": null,
   "metadata": {},
   "outputs": [],
   "source": []
  }
 ],
 "metadata": {
  "kernelspec": {
   "display_name": "nlp",
   "language": "python",
   "name": "nlp"
  },
  "language_info": {
   "codemirror_mode": {
    "name": "ipython",
    "version": 3
   },
   "file_extension": ".py",
   "mimetype": "text/x-python",
   "name": "python",
   "nbconvert_exporter": "python",
   "pygments_lexer": "ipython3",
   "version": "3.6.10"
  },
  "toc": {
   "base_numbering": 1,
   "nav_menu": {},
   "number_sections": true,
   "sideBar": true,
   "skip_h1_title": true,
   "title_cell": "Table of Contents",
   "title_sidebar": "Contents",
   "toc_cell": true,
   "toc_position": {},
   "toc_section_display": true,
   "toc_window_display": true
  }
 },
 "nbformat": 4,
 "nbformat_minor": 2
}
